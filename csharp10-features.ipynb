{
 "cells": [
  {
   "cell_type": "markdown",
   "metadata": {
    "dotnet_interactive": {
     "language": "csharp"
    }
   },
   "source": [
    "# C# 10 Features Summary\n",
    "Source: [What's new in C# 10](https://docs.microsoft.com/en-us/dotnet/csharp/whats-new/csharp-10)\n",
    "\n",
    "Nothing big, mostly improvements and ways to redue clutter from files.\n",
    "\n",
    "Preview features are skipped."
   ]
  },
  {
   "cell_type": "markdown",
   "metadata": {},
   "source": [
    "## Reducing the amount of usings in .cs files\n",
    "\n",
    "[More info](https://endjin.com/blog/2021/09/dotnet-csharp-10-implicit-global-using-directives)"
   ]
  },
  {
   "cell_type": "markdown",
   "metadata": {},
   "source": [
    "### Global using directives\n",
    "Save space in all files by putting common usings in a single file with the `global` keyword."
   ]
  },
  {
   "cell_type": "code",
   "execution_count": null,
   "metadata": {
    "dotnet_interactive": {
     "language": "csharp"
    }
   },
   "outputs": [],
   "source": [
    "global using System;\n",
    "global using System.Collections.Generic;"
   ]
  },
  {
   "cell_type": "markdown",
   "metadata": {},
   "source": [
    "Or you can add the usings in the **.csproj** file with:\n",
    "```\n",
    "<ItemGroup>\n",
    "  <Using Include=\"System.IO.Pipes\" />\n",
    "</ItemGroup>\n",
    "```"
   ]
  },
  {
   "cell_type": "markdown",
   "metadata": {},
   "source": [
    "### Implicit usings\n",
    "Set the porperty in the **.csproj** and the compiler will automatically imply the most relevant usings for your type of project.\n",
    "\n",
    "```\n",
    "<PropertyGroup>\n",
    "    <ImplicitUsings>enable</ImplicitUsings>\n",
    "</PropertyGroup>\n",
    "```\n",
    "\n",
    "If you need to remove an implicit using because of some time being ambiguous:\n",
    "```\n",
    "<ItemGroup>\n",
    "  <Using Remove=\"System.IO.Pipes\" />\n",
    "</ItemGroup>\n",
    "```"
   ]
  },
  {
   "cell_type": "markdown",
   "metadata": {},
   "source": [
    "## File-scoped namespace declaration\n",
    "One less nesting in your files by having the name spae declared without the brackets, just:\n",
    "\n",
    "`namespace MyNameSpace;`\n",
    "\n",
    "[Microsoft Docs](https://docs.microsoft.com/en-us/dotnet/csharp/language-reference/keywords/namespace)"
   ]
  },
  {
   "cell_type": "markdown",
   "metadata": {},
   "source": [
    "## Extended property patterns\n",
    "Assign values to nested properties within a property pattern.\n",
    "\n",
    "[More info](https://www.thomasclaudiushuber.com/2021/10/21/c-10-extended-property-patterns/)"
   ]
  },
  {
   "cell_type": "code",
   "execution_count": null,
   "metadata": {
    "dotnet_interactive": {
     "language": "csharp"
    }
   },
   "outputs": [
    {
     "name": "stdout",
     "output_type": "stream",
     "text": [
      "No, the person lives in '5th Avenue'\r\n"
     ]
    }
   ],
   "source": [
    "public class Address\n",
    "{\n",
    "    public string Street {get; set;}\n",
    "}\n",
    "public class Person\n",
    "{\n",
    "    public string Name {get; set;}\n",
    "    public Address Address {get;set;}\n",
    "}\n",
    "\n",
    "var person = new Person { Name = \"John\", Address = new Address{ Street = \"5th Avenue\"}};\n",
    "\n",
    "//                     vvvvvvvvvvvvvv Instead of { Address { Street = \"Central Park\" }}\n",
    "if (person is Person { Address.Street: \"Central Park\"})\n",
    "{\n",
    "    Console.WriteLine($\"Yes, the person lives in '{person.Address.Street}'\");\n",
    "}\n",
    "else\n",
    "{\n",
    "    Console.WriteLine($\"No, the person lives in '{person.Address.Street}'\");\n",
    "}"
   ]
  },
  {
   "cell_type": "markdown",
   "metadata": {},
   "source": [
    "### Lambda expressions improvements"
   ]
  },
  {
   "cell_type": "markdown",
   "metadata": {},
   "source": [
    "### Natural type\n",
    "Allows the code to be more similar to functional programming, where is normal to assign a method to a variable.\n",
    "\n",
    "[Microsoft Docs](https://docs.microsoft.com/en-us/dotnet/csharp/language-reference/operators/lambda-expressions#natural-type-of-a-lambda-expression)"
   ]
  },
  {
   "cell_type": "code",
   "execution_count": null,
   "metadata": {
    "dotnet_interactive": {
     "language": "csharp"
    }
   },
   "outputs": [
    {
     "name": "stdout",
     "output_type": "stream",
     "text": [
      "Parse variable is of type Func`2\r\n"
     ]
    }
   ],
   "source": [
    "// C# 9:\n",
    "// Func<string, int> parse = (string s) => int.Parse(s);\n",
    "// C# 10:\n",
    "var parse = (string s) => int.Parse(s);\n",
    "Console.WriteLine($\"Parse variable is of type {parse.GetType().Name}\");"
   ]
  },
  {
   "cell_type": "markdown",
   "metadata": {},
   "source": [
    "### Explicit return type\n",
    "You can now write the return type of a lambda\n",
    "\n",
    "[Microsoft Docs](https://docs.microsoft.com/en-us/dotnet/csharp/language-reference/operators/lambda-expressions#explicit-return-type)"
   ]
  },
  {
   "cell_type": "code",
   "execution_count": null,
   "metadata": {
    "dotnet_interactive": {
     "language": "csharp"
    }
   },
   "outputs": [],
   "source": [
    "// C# 9:\n",
    "// var choose = (bool b) => b ? 1 : \"two\"; // ERROR: Can't infer return type\n",
    "// CH 10:    vvvvvv\n",
    "var choose = object (bool b) => b ? 1 : \"two\";"
   ]
  },
  {
   "cell_type": "markdown",
   "metadata": {},
   "source": [
    "### Attributes\n",
    "Now you can add attributes to the lambda and to its parameters.\n",
    "\n",
    "[Microsoft Docs](https://docs.microsoft.com/en-us/dotnet/csharp/language-reference/operators/lambda-expressions#attributes)"
   ]
  },
  {
   "cell_type": "code",
   "execution_count": null,
   "metadata": {
    "dotnet_interactive": {
     "language": "csharp"
    }
   },
   "outputs": [],
   "source": [
    "using System.Diagnostics;\n",
    "using System.Diagnostics.CodeAnalysis;\n",
    "\n",
    "var choose = [DebuggerStepThrough] object ([NotNull]Person p) => string.IsNullOrWhiteSpace(p.Name) ? 1 : \"two\";"
   ]
  },
  {
   "cell_type": "markdown",
   "metadata": {},
   "source": [
    "## Records improvements"
   ]
  },
  {
   "cell_type": "markdown",
   "metadata": {},
   "source": [
    "### Record structs\n",
    "Records are reference types. With `struct` you can make them value types\n",
    "\n",
    "[Microsoft Docs](https://docs.microsoft.com/en-us/dotnet/csharp/language-reference/builtin-types/record)"
   ]
  },
  {
   "cell_type": "code",
   "execution_count": null,
   "metadata": {
    "dotnet_interactive": {
     "language": "csharp"
    }
   },
   "outputs": [],
   "source": [
    "public record struct Point2D\n",
    "{\n",
    "    public double X {  get; init; }\n",
    "    public double Y {  get; init; }\n",
    "}"
   ]
  },
  {
   "cell_type": "markdown",
   "metadata": {},
   "source": [
    "### Seal ToString()\n",
    "So that children can't change it.\n",
    "\n",
    "[Microsoft Docs]()"
   ]
  },
  {
   "cell_type": "code",
   "execution_count": null,
   "metadata": {
    "dotnet_interactive": {
     "language": "csharp"
    }
   },
   "outputs": [
    {
     "ename": "Error",
     "evalue": "(14,28): error CS0239: 'CardiologyPatient.ToString()': cannot override inherited member 'Patient.ToString()' because it is sealed",
     "output_type": "error",
     "traceback": [
      "(14,28): error CS0239: 'CardiologyPatient.ToString()': cannot override inherited member 'Patient.ToString()' because it is sealed"
     ]
    }
   ],
   "source": [
    "public record Patient\n",
    "{\n",
    "    public string Name {get;init;}\n",
    "\n",
    "    public override sealed string ToString(){\n",
    "        return $\"Patient {Name}\";\n",
    "    }\n",
    "}\n",
    "\n",
    "public record CardiologyPatient : Patient\n",
    "{\n",
    "    public int HeartRate {get;init;}\n",
    "\n",
    "    public override string ToString()\n",
    "    {\n",
    "        return $\"Cardiology Patient: {Name}, {HeartRate}\";\n",
    "    }\n",
    "}"
   ]
  },
  {
   "cell_type": "markdown",
   "metadata": {},
   "source": [
    "## Interpolated strings"
   ]
  },
  {
   "cell_type": "markdown",
   "metadata": {},
   "source": [
    "### Interpolated string handlers\n",
    "Write your own interpolated string handler\n",
    "\n",
    "[Microsoft Docs](https://docs.microsoft.com/en-us/dotnet/csharp/whats-new/tutorials/interpolated-string-handler)"
   ]
  },
  {
   "cell_type": "markdown",
   "metadata": {},
   "source": [
    "### Interpolated const strings\n",
    "Now `const strings` may be initialized using string interpolation\n",
    "\n",
    "[Microsoft Docs](https://docs.microsoft.com/en-us/dotnet/csharp/language-reference/tokens/interpolated)"
   ]
  },
  {
   "cell_type": "code",
   "execution_count": null,
   "metadata": {
    "dotnet_interactive": {
     "language": "csharp"
    }
   },
   "outputs": [],
   "source": [
    "const string Version = \"1.1.0\";\n",
    "const string TextualVersion = $\"The version is {Version}\";"
   ]
  },
  {
   "cell_type": "markdown",
   "metadata": {},
   "source": [
    "## CallerArgumentExpression attribute diagnostics\n",
    "The new `CallerArgumentExpression` joins the family of [Caller*] attributes. It puts the actual expression being passed to an argument into a `string`.\n",
    "\n",
    "[Microsoft Docs](https://docs.microsoft.com/en-us/dotnet/csharp/language-reference/attributes/caller-information#argument-expressions)"
   ]
  },
  {
   "cell_type": "code",
   "execution_count": null,
   "metadata": {
    "dotnet_interactive": {
     "language": "csharp"
    }
   },
   "outputs": [
    {
     "name": "stdout",
     "output_type": "stream",
     "text": [
      "The caller wrote: true\r\n",
      "The caller wrote: 1 > 0\r\n",
      "The caller wrote: AMethodThatReturnsABool(2, 5)\r\n"
     ]
    }
   ],
   "source": [
    "using System.Runtime.CompilerServices;\n",
    "\n",
    "void WhatIsPassed(bool theParameter, [CallerArgumentExpression(\"theParameter\")] string expression = null)\n",
    "{\n",
    "    Console.WriteLine($\"The caller wrote: {expression}\");\n",
    "}\n",
    "\n",
    "WhatIsPassed(true);\n",
    "WhatIsPassed(1 > 0);\n",
    "\n",
    "bool AMethodThatReturnsABool(int a, int b) => false;\n",
    "WhatIsPassed(AMethodThatReturnsABool(2, 5));"
   ]
  },
  {
   "cell_type": "markdown",
   "metadata": {},
   "source": [
    "## ArgumentNullException.ThrowIfNull helper\n",
    "[Microsoft Docs](https://docs.microsoft.com/en-us/dotnet/api/system.argumentnullexception.throwifnull?view=net-6.0)"
   ]
  },
  {
   "cell_type": "code",
   "execution_count": null,
   "metadata": {
    "dotnet_interactive": {
     "language": "csharp"
    }
   },
   "outputs": [
    {
     "ename": "Error",
     "evalue": "System.ArgumentNullException: Value cannot be null. (Parameter 'id')\r\n   at System.ArgumentNullException.Throw(String paramName)\r\n   at System.ArgumentNullException.ThrowIfNull(Object argument, String paramName)\r\n   at Submission#74.DoSomething(String id)\r\n   at Submission#74.<<Initialize>>d__0.MoveNext()\r\n--- End of stack trace from previous location ---\r\n   at Microsoft.CodeAnalysis.Scripting.ScriptExecutionState.RunSubmissionsAsync[TResult](ImmutableArray`1 precedingExecutors, Func`2 currentExecutor, StrongBox`1 exceptionHolderOpt, Func`2 catchExceptionOpt, CancellationToken cancellationToken)",
     "output_type": "error",
     "traceback": [
      "System.ArgumentNullException: Value cannot be null. (Parameter 'id')\r\n",
      "   at System.ArgumentNullException.Throw(String paramName)\r\n",
      "   at System.ArgumentNullException.ThrowIfNull(Object argument, String paramName)\r\n",
      "   at Submission#74.DoSomething(String id)\r\n",
      "   at Submission#74.<<Initialize>>d__0.MoveNext()\r\n",
      "--- End of stack trace from previous location ---\r\n",
      "   at Microsoft.CodeAnalysis.Scripting.ScriptExecutionState.RunSubmissionsAsync[TResult](ImmutableArray`1 precedingExecutors, Func`2 currentExecutor, StrongBox`1 exceptionHolderOpt, Func`2 catchExceptionOpt, CancellationToken cancellationToken)"
     ]
    }
   ],
   "source": [
    "void DoSomething(string id)\n",
    "{\n",
    "    ArgumentNullException.ThrowIfNull(id);\n",
    "}\n",
    "\n",
    "DoSomething(null);"
   ]
  },
  {
   "cell_type": "markdown",
   "metadata": {
    "dotnet_interactive": {
     "language": "csharp"
    }
   },
   "source": [
    "## Null check with double exclamation mark\n",
    "Yoiu can check null by adding `!!` at the end of a parameter. That is it.\n",
    "\n",
    "\n",
    "```\n",
    "void DoMore(string id !!)\n",
    "{\n",
    "    // ...\n",
    "}\n",
    "\n",
    "DoMore(null); // Throws ArgumentNullException.\n",
    "```\n",
    "\n",
    "This syntax is not supported by Notebooks yet."
   ]
  },
  {
   "cell_type": "markdown",
   "metadata": {},
   "source": [
    "## Improvements for structs"
   ]
  },
  {
   "cell_type": "markdown",
   "metadata": {},
   "source": [
    "### Parameterless constructors and field initializers\n",
    "You can declare a parameterless constructor in a `struct`.\n",
    "\n",
    "[Microsoft Docs](https://docs.microsoft.com/en-us/dotnet/csharp/whats-new/csharp-10#improvements-of-structure-types)\n",
    "\n",
    "[Microsoft Docs | Language Refernece | Struct](https://docs.microsoft.com/en-us/dotnet/csharp/language-reference/builtin-types/struct#parameterless-constructors-and-field-initializers)\n"
   ]
  },
  {
   "cell_type": "code",
   "execution_count": null,
   "metadata": {
    "dotnet_interactive": {
     "language": "csharp"
    }
   },
   "outputs": [
    {
     "name": "stdout",
     "output_type": "stream",
     "text": [
      "M1 value is: NaN\r\n",
      "M2 value is: 11\r\n"
     ]
    }
   ],
   "source": [
    "public struct Measurement\n",
    "{\n",
    "    public double Value { get; init; }\n",
    "\n",
    "    public Measurement()\n",
    "    {\n",
    "        Value = double.NaN;\n",
    "    }\n",
    "\n",
    "    public Measurement(double value)\n",
    "    {\n",
    "        Value = value;\n",
    "    }\n",
    " }\n",
    "\n",
    " var m1 = new Measurement();\n",
    " Console.WriteLine($\"M1 value is: {m1.Value}\");\n",
    "\n",
    " var m2 = new Measurement(11);\n",
    " Console.WriteLine($\"M2 value is: {m2.Value}\");"
   ]
  },
  {
   "cell_type": "markdown",
   "metadata": {},
   "source": [
    "### With keyword can now be used with structs\n",
    "[Microsoft Docs](https://docs.microsoft.com/en-us/dotnet/csharp/language-reference/operators/with-expression)"
   ]
  },
  {
   "cell_type": "code",
   "execution_count": null,
   "metadata": {
    "dotnet_interactive": {
     "language": "csharp"
    }
   },
   "outputs": [
    {
     "name": "stdout",
     "output_type": "stream",
     "text": [
      "M3 value is: 22\r\n"
     ]
    }
   ],
   "source": [
    "//          vvvv This was only possible with records in C# 9\n",
    "var m3 = m2 with {Value = 22};\n",
    "\n",
    "Console.WriteLine($\"M3 value is: {m3.Value}\");"
   ]
  },
  {
   "cell_type": "markdown",
   "metadata": {},
   "source": [
    "## Assignment and declaration in same deconstruction\n",
    "You can now declare variables or use existing ones when deconstructing an instance.\n",
    "\n",
    "[Microsoft Docs](https://docs.microsoft.com/en-us/dotnet/csharp/whats-new/csharp-10#assignment-and-declaration-in-same-deconstruction)"
   ]
  },
  {
   "cell_type": "code",
   "execution_count": null,
   "metadata": {
    "dotnet_interactive": {
     "language": "csharp"
    }
   },
   "outputs": [
    {
     "name": "stdout",
     "output_type": "stream",
     "text": [
      "Dog is a Mammal\r\n"
     ]
    }
   ],
   "source": [
    "record Animal(string Name, string AnimalType);\n",
    "var dog = new Animal(\"Dog\", \"Mammal\");\n",
    "\n",
    "// This was not possible before C#10\n",
    "string name = string.Empty;\n",
    "(name, string animalType) = dog;\n",
    "\n",
    "Console.WriteLine($\"{name} is a {animalType}\");"
   ]
  },
  {
   "cell_type": "markdown",
   "metadata": {},
   "source": [
    "## Improved definite assignment\n",
    "Definite assignment is a rule simply stating that every variable must have a value before it's read from. The process of assigning a value to a variable for the first time is known as initialization. Once the initialization process has taken place, a variable is considered initialized.[Source](https://www.informit.com/articles/article.aspx?p=23211&seqNum=8#)\n",
    "\n",
    "Now the compiler will not show warning in certain situations.\n",
    "\n",
    "[Microsoft Docs](https://docs.microsoft.com/en-us/dotnet/csharp/whats-new/csharp-10#improved-definite-assignment)"
   ]
  },
  {
   "cell_type": "markdown",
   "metadata": {},
   "source": [
    "## Allow AsyncMethodBuilder attribute on methods\n",
    "Just [read this in Microsft Docs](https://docs.microsoft.com/en-us/dotnet/csharp/whats-new/csharp-10#allow-asyncmethodbuilder-attribute-on-methods). For performance."
   ]
  },
  {
   "cell_type": "markdown",
   "metadata": {},
   "source": [
    "## Enhanced #line pragma\n",
    "A new format for the `#line pragma`. You likely won't use it. Domain-specific languages like Razor use these enhancements to improve the debugging experience.\n",
    "\n",
    "[Microsoft Docs](https://docs.microsoft.com/en-us/dotnet/csharp/whats-new/csharp-10#enhanced-line-pragma)"
   ]
  }
 ],
 "metadata": {
  "kernelspec": {
   "display_name": ".NET (C#)",
   "language": "C#",
   "name": ".net-csharp"
  },
  "language_info": {
   "file_extension": ".cs",
   "mimetype": "text/x-csharp",
   "name": "C#",
   "pygments_lexer": "csharp",
   "version": "9.0"
  },
  "orig_nbformat": 4
 },
 "nbformat": 4,
 "nbformat_minor": 2
}
